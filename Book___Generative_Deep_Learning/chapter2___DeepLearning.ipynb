{
 "cells": [
  {
   "cell_type": "markdown",
   "id": "2df36a39-cd8f-4908-9ed4-c5d95037752f",
   "metadata": {},
   "source": [
    "https://github.com/davidADSP/Generative_Deep_Learning_2nd_Edition/blob/main/notebooks/02_deeplearning/02_cnn/convolutions.ipynb"
   ]
  },
  {
   "cell_type": "code",
   "execution_count": 8,
   "id": "45e39fdc",
   "metadata": {},
   "outputs": [],
   "source": [
    "import numpy as np\n",
    "import pandas as pd\n",
    "import matplotlib.pyplot as plt\n",
    "\n",
    "from tensorflow.keras import datasets, utils\n",
    "from tensorflow.keras import layers, models\n",
    "from tensorflow.keras import optimizers"
   ]
  },
  {
   "cell_type": "markdown",
   "id": "19ae9748-dc3c-483e-80a5-18de03912414",
   "metadata": {},
   "source": [
    "# 다층퍼셉트론"
   ]
  },
  {
   "cell_type": "code",
   "execution_count": 17,
   "id": "bf175512",
   "metadata": {},
   "outputs": [],
   "source": [
    "(X_train, y_train), (X_test, y_test) = datasets.cifar10.load_data()"
   ]
  },
  {
   "cell_type": "code",
   "execution_count": 18,
   "id": "482400ec",
   "metadata": {},
   "outputs": [],
   "source": [
    "num_classes = 10\n",
    "\n",
    "X_train = X_train.astype('float32') / 255.0\n",
    "X_test = X_test.astype('float32') / 255.0\n",
    "\n",
    "y_train = utils.to_categorical(y_train, num_classes)\n",
    "y_test = utils.to_categorical(y_test, num_classes)"
   ]
  },
  {
   "cell_type": "code",
   "execution_count": 19,
   "id": "9bdd454c",
   "metadata": {},
   "outputs": [
    {
     "data": {
      "text/plain": [
       "((50000, 32, 32, 3), (50000, 10))"
      ]
     },
     "execution_count": 19,
     "metadata": {},
     "output_type": "execute_result"
    }
   ],
   "source": [
    "X_train.shape, y_train.shape"
   ]
  },
  {
   "cell_type": "code",
   "execution_count": 7,
   "id": "c2e48664",
   "metadata": {},
   "outputs": [],
   "source": [
    "# 기본적인 연속형 형태의 모델\n",
    "model = models.Sequential(\n",
    "                            [\n",
    "                                layers.Flatten(input_shape = (32, 32, 3)),\n",
    "                                layers.Dense(200, activation = 'relu'),\n",
    "                                layers.Dense(150, activation = 'relu'),\n",
    "                                layers.Dense(10, activation = 'softmax')\n",
    "                            ]\n",
    ")"
   ]
  },
  {
   "cell_type": "markdown",
   "id": "c0bf42c0",
   "metadata": {},
   "source": [
    "- Input : 네트워크의 시작점. 입력 데이터의 크기를 튜플을 통해 알려준다.\n",
    "- Flatten : 입력된 데이터를 하나의 벡터로 펼치는 단계(펼친다고 하여 flatten이라고 한다.)\n",
    "- Dense : 기본적인 신경망 구성 요소"
   ]
  },
  {
   "cell_type": "code",
   "execution_count": 8,
   "id": "17bd7510",
   "metadata": {},
   "outputs": [],
   "source": [
    "# Sequentail을 사용하지 않고, 함수형 API를 통해 모델 생성\n",
    "# 기본적인 형태는 비슷하다.\n",
    "input_layer = layers.Input(shape = (32, 32, 3))\n",
    "x = layers.Flatten()(input_layer)\n",
    "# x = layers.Dense(units = 200, activation = 'relu')(x) # 활성화 함수를 분리하여 작성할 수 있다.\n",
    "x = layers.Dense(units = 200)(x)\n",
    "x = layers.Activation('relu')(x)\n",
    "x = layers.Dense(units = 150, activation = 'relu')(x)\n",
    "output_layer = layers.Dense(units = 10, activation = 'softmax')(x)\n",
    "\n",
    "model = models.Model(input_layer, output_layer)"
   ]
  },
  {
   "cell_type": "code",
   "execution_count": 9,
   "id": "ba14094c",
   "metadata": {},
   "outputs": [
    {
     "name": "stdout",
     "output_type": "stream",
     "text": [
      "Model: \"model\"\n",
      "_________________________________________________________________\n",
      " Layer (type)                Output Shape              Param #   \n",
      "=================================================================\n",
      " input_1 (InputLayer)        [(None, 32, 32, 3)]       0         \n",
      "                                                                 \n",
      " flatten_1 (Flatten)         (None, 3072)              0         \n",
      "                                                                 \n",
      " dense_3 (Dense)             (None, 200)               614600    \n",
      "                                                                 \n",
      " activation (Activation)     (None, 200)               0         \n",
      "                                                                 \n",
      " dense_4 (Dense)             (None, 150)               30150     \n",
      "                                                                 \n",
      " dense_5 (Dense)             (None, 10)                1510      \n",
      "                                                                 \n",
      "=================================================================\n",
      "Total params: 646,260\n",
      "Trainable params: 646,260\n",
      "Non-trainable params: 0\n",
      "_________________________________________________________________\n"
     ]
    }
   ],
   "source": [
    "model.summary()"
   ]
  },
  {
   "cell_type": "code",
   "execution_count": 10,
   "id": "b73cc546",
   "metadata": {},
   "outputs": [],
   "source": [
    "opt = optimizers.Adam(learning_rate = 0.0005)\n",
    "model.compile(loss = 'categorical_crossentropy',\n",
    "              optimizer = opt,\n",
    "              metrics = ['accuracy'])"
   ]
  },
  {
   "cell_type": "markdown",
   "id": "728b09a5",
   "metadata": {},
   "source": [
    "손실함수\n",
    "\n",
    "- rmse : 회귀 문제의 경우 평균 제곱 오차 손실을 계산\n",
    "- categorical_crossentropy : 범주형 분류 문제\n",
    "- binary_crossentropu : 이진 분류 문제"
   ]
  },
  {
   "cell_type": "code",
   "execution_count": 11,
   "id": "8077cf8e",
   "metadata": {},
   "outputs": [
    {
     "name": "stdout",
     "output_type": "stream",
     "text": [
      "Epoch 1/10\n",
      "1563/1563 [==============================] - 10s 6ms/step - loss: 1.8483 - accuracy: 0.3350\n",
      "Epoch 2/10\n",
      "1563/1563 [==============================] - 8s 5ms/step - loss: 1.6712 - accuracy: 0.4042\n",
      "Epoch 3/10\n",
      "1563/1563 [==============================] - 9s 6ms/step - loss: 1.5938 - accuracy: 0.4305\n",
      "Epoch 4/10\n",
      "1563/1563 [==============================] - 8s 5ms/step - loss: 1.5383 - accuracy: 0.4527\n",
      "Epoch 5/10\n",
      "1563/1563 [==============================] - 11s 7ms/step - loss: 1.5009 - accuracy: 0.4630\n",
      "Epoch 6/10\n",
      "1563/1563 [==============================] - 10s 6ms/step - loss: 1.4688 - accuracy: 0.4762\n",
      "Epoch 7/10\n",
      "1563/1563 [==============================] - 9s 6ms/step - loss: 1.4408 - accuracy: 0.4869\n",
      "Epoch 8/10\n",
      "1563/1563 [==============================] - 8s 5ms/step - loss: 1.4142 - accuracy: 0.4957\n",
      "Epoch 9/10\n",
      "1563/1563 [==============================] - 9s 6ms/step - loss: 1.3936 - accuracy: 0.5022\n",
      "Epoch 10/10\n",
      "1563/1563 [==============================] - 9s 6ms/step - loss: 1.3696 - accuracy: 0.5135\n"
     ]
    },
    {
     "data": {
      "text/plain": [
       "<keras.callbacks.History at 0x1fb8c8ec0d0>"
      ]
     },
     "execution_count": 11,
     "metadata": {},
     "output_type": "execute_result"
    }
   ],
   "source": [
    "model.fit(X_train,\n",
    "          y_train,\n",
    "          batch_size = 32,\n",
    "          epochs = 10,\n",
    "          shuffle = True)"
   ]
  },
  {
   "cell_type": "code",
   "execution_count": 12,
   "id": "bdb7889d",
   "metadata": {},
   "outputs": [
    {
     "name": "stdout",
     "output_type": "stream",
     "text": [
      "313/313 [==============================] - 2s 5ms/step - loss: 1.4236 - accuracy: 0.4963\n"
     ]
    },
    {
     "data": {
      "text/plain": [
       "[1.4236197471618652, 0.49630001187324524]"
      ]
     },
     "execution_count": 12,
     "metadata": {},
     "output_type": "execute_result"
    }
   ],
   "source": [
    "model.evaluate(X_test, y_test) # 48퍼센트의 정확도"
   ]
  },
  {
   "cell_type": "code",
   "execution_count": 13,
   "id": "48dff44f",
   "metadata": {},
   "outputs": [
    {
     "name": "stdout",
     "output_type": "stream",
     "text": [
      "313/313 [==============================] - 2s 6ms/step\n"
     ]
    }
   ],
   "source": [
    "classes = np.array(['airplane', 'automobile', 'bird', 'cat', 'deer',\n",
    "                    'dog', 'fog', 'horse', 'ship', 'truck'])\n",
    "\n",
    "preds = model.predict(X_test)\n",
    "preds_single = classes[np.argmax(preds, axis = -1)] # np.argmax() >>> 가장 큰 원소의 인덱스 반환 (가장 확률이 높은 값의 인덱스를 반환)\n",
    "actual_single = classes[np.argmax(y_test, axis = -1)]"
   ]
  },
  {
   "cell_type": "code",
   "execution_count": null,
   "id": "4a85c179",
   "metadata": {},
   "outputs": [],
   "source": [
    "n_to_show = 10\n",
    "indices = np.random.choice(range(len(X_test)), n_to_show)\n",
    "\n",
    "fig = plt.figure(figsize = (15, 3))\n",
    "fig.subplots_adjust(hspace = 0.4, wspace = 0.4)\n",
    "\n",
    "for i, idx in enumerate(indices):\n",
    "    img = X_test[idx]\n",
    "    ax = fig.add_subplot(1, n_to_show, i+1)\n",
    "    ax.axis('off')\n",
    "    ax.text(0.5, -0.35,\n",
    "            'pred = ' + str(preds_single[idx]),\n",
    "            fontsize = 10,\n",
    "            ha = 'center',\n",
    "            transform = ax.transAxes)\n",
    "    ax.text(0.5, -0.7,\n",
    "            'pred = ' + str(actual_single[idx]),\n",
    "            fontsize = 10,\n",
    "            ha = 'center',\n",
    "            transform = ax.transAxes)\n",
    "    ax.imshow(img)"
   ]
  },
  {
   "cell_type": "markdown",
   "id": "114f19a4-00ef-4c7f-8eda-6aefc5640ecc",
   "metadata": {},
   "source": [
    "# 합성곱 신경망"
   ]
  },
  {
   "cell_type": "code",
   "execution_count": 6,
   "id": "af4bf594-ab84-4775-bd39-49f1f8b50525",
   "metadata": {},
   "outputs": [],
   "source": [
    "from skimage import data\n",
    "from skimage.color import rgb2gray\n",
    "from skimage.transform import resize"
   ]
  },
  {
   "cell_type": "markdown",
   "id": "d05d6f27-c8f7-4b86-b234-d02117915184",
   "metadata": {},
   "source": [
    "### 필터 예제"
   ]
  },
  {
   "cell_type": "code",
   "execution_count": 9,
   "id": "ce9ea13e-c611-4460-919b-9db395fa36ad",
   "metadata": {},
   "outputs": [
    {
     "name": "stdout",
     "output_type": "stream",
     "text": [
      "(64, 64)\n"
     ]
    },
    {
     "data": {
      "text/plain": [
       "<matplotlib.image.AxesImage at 0x1dd83cc3ca0>"
      ]
     },
     "execution_count": 9,
     "metadata": {},
     "output_type": "execute_result"
    },
    {
     "data": {
      "image/png": "[encoded data removed]",
      "text/plain": [
       "<Figure size 640x480 with 1 Axes>"
      ]
     },
     "metadata": {},
     "output_type": "display_data"
    }
   ],
   "source": [
    "im = rgb2gray(data.coffee())\n",
    "im = resize(im, (64, 64))\n",
    "print(im.shape)\n",
    "\n",
    "plt.axis('off')\n",
    "plt.imshow(im, cmap = 'gray')"
   ]
  },
  {
   "cell_type": "markdown",
   "id": "1ccc8ea6-c4fb-4dac-93cb-fc9fdd8e600c",
   "metadata": {},
   "source": [
    "### 합성곱 층 쌓기"
   ]
  },
  {
   "cell_type": "code",
   "execution_count": 10,
   "id": "9ff91f0b-c464-419c-b2ad-7535b267ad28",
   "metadata": {},
   "outputs": [],
   "source": [
    "input_layer = layers.Input(shape = (32, 32, 3))\n",
    "conv_layer_1 = layers.Conv2D(\n",
    "                                filters = 10, # filter의 갯수 / 이 층을 거치고 나면 필터의 갯수만큼 특성층이 생기는 것\n",
    "                                kernel_size = (4, 4), # filter의 크기\n",
    "                                strides = 2,\n",
    "                                padding = 'same'\n",
    "                            )(input_layer)\n",
    "conv_layer_2 = layers.Conv2D(\n",
    "                                filters = 20,\n",
    "                                kernel_size = (3, 3),\n",
    "                                strides = 2,\n",
    "                                padding = 'same'\n",
    "                            )(conv_layer_1)\n",
    "flatten_layer = layers.Flatten()(conv_layer_2)\n",
    "output_layer = layers.Dense(units = 10, activation = 'softmax')(flatten_layer)\n",
    "\n",
    "model = models.Model(input_layer, output_layer)"
   ]
  },
  {
   "cell_type": "code",
   "execution_count": 11,
   "id": "87c402ff-280f-4ee4-a184-6a235ac5bc15",
   "metadata": {},
   "outputs": [
    {
     "name": "stdout",
     "output_type": "stream",
     "text": [
      "Model: \"model\"\n",
      "_________________________________________________________________\n",
      " Layer (type)                Output Shape              Param #   \n",
      "=================================================================\n",
      " input_1 (InputLayer)        [(None, 32, 32, 3)]       0         \n",
      "                                                                 \n",
      " conv2d (Conv2D)             (None, 16, 16, 10)        490       \n",
      "                                                                 \n",
      " conv2d_1 (Conv2D)           (None, 8, 8, 20)          1820      \n",
      "                                                                 \n",
      " flatten (Flatten)           (None, 1280)              0         \n",
      "                                                                 \n",
      " dense (Dense)               (None, 10)                12810     \n",
      "                                                                 \n",
      "=================================================================\n",
      "Total params: 15,120\n",
      "Trainable params: 15,120\n",
      "Non-trainable params: 0\n",
      "_________________________________________________________________\n"
     ]
    }
   ],
   "source": [
    "model.summary()"
   ]
  },
  {
   "cell_type": "markdown",
   "id": "d8b38bbc-d7bc-42e0-9869-048601fe1195",
   "metadata": {},
   "source": [
    "### 배치정규화와 드롭아웃"
   ]
  },
  {
   "cell_type": "code",
   "execution_count": 12,
   "id": "e5179c79-6257-4440-acd2-4480a9ff3cd7",
   "metadata": {},
   "outputs": [
    {
     "data": {
      "text/plain": [
       "<keras.layers.normalization.batch_normalization.BatchNormalization at 0x1dd846ea250>"
      ]
     },
     "execution_count": 12,
     "metadata": {},
     "output_type": "execute_result"
    }
   ],
   "source": [
    "layers.BatchNormalization(momentum = 0.9)"
   ]
  },
  {
   "cell_type": "code",
   "execution_count": 13,
   "id": "6affe332-fc35-4f30-9fd5-079b277a708d",
   "metadata": {},
   "outputs": [
    {
     "data": {
      "text/plain": [
       "<keras.layers.regularization.dropout.Dropout at 0x1dd846ea640>"
      ]
     },
     "execution_count": 13,
     "metadata": {},
     "output_type": "execute_result"
    }
   ],
   "source": [
    "layers.Dropout(rate = 0.25)"
   ]
  },
  {
   "cell_type": "markdown",
   "id": "55416f95-94c2-4d8c-b7da-c671ccdb0196",
   "metadata": {},
   "source": [
    "### CNN 모델링"
   ]
  },
  {
   "cell_type": "code",
   "execution_count": 14,
   "id": "0caf3433-8d07-4209-8b12-6b82400bfbd3",
   "metadata": {},
   "outputs": [],
   "source": [
    "input_layer = layers.Input(shape = (32, 32, 3))\n",
    "x = layers.Conv2D(\n",
    "                    filters = 32, # filter의 갯수 / 이 층을 거치고 나면 필터의 갯수만큼 특성층이 생기는 것\n",
    "                    kernel_size = (3, 3), # filter의 크기\n",
    "                    strides = 1,\n",
    "                    padding = 'same'\n",
    "                )(input_layer)\n",
    "x = layers.BatchNormalization()(x)\n",
    "x = layers.LeakyReLU()(x)\n",
    "\n",
    "x = layers.Conv2D(\n",
    "                    filters = 32,\n",
    "                    kernel_size = (3, 3),\n",
    "                    strides = 2,\n",
    "                    padding = 'same'\n",
    "                )(x)\n",
    "x = layers.BatchNormalization()(x)\n",
    "x = layers.LeakyReLU()(x)\n",
    "\n",
    "x = layers.Conv2D(\n",
    "                    filters = 64,\n",
    "                    kernel_size = (3, 3),\n",
    "                    strides = 1,\n",
    "                    padding = 'same'\n",
    "                )(x)\n",
    "x = layers.BatchNormalization()(x)\n",
    "x = layers.LeakyReLU()(x)\n",
    "\n",
    "x = layers.Conv2D(\n",
    "                    filters = 64,\n",
    "                    kernel_size = (3, 3),\n",
    "                    strides = 2,\n",
    "                    padding = 'same'\n",
    "                )(x)\n",
    "x = layers.BatchNormalization()(x)\n",
    "x = layers.LeakyReLU()(x)\n",
    "\n",
    "x = layers.Flatten()(x)\n",
    "\n",
    "x = layers.Dense(128)(x)\n",
    "x = layers.BatchNormalization()(x)\n",
    "x = layers.LeakyReLU()(x)\n",
    "x = layers.Dropout(rate = 0.5)(x)\n",
    "\n",
    "output_layer = layers.Dense(10, activation = 'softmax')(x)\n",
    "\n",
    "model = models.Model(input_layer, output_layer)"
   ]
  },
  {
   "cell_type": "code",
   "execution_count": 15,
   "id": "53c4a25f-0927-47dc-88ee-f2e0bfcb8872",
   "metadata": {},
   "outputs": [],
   "source": [
    "opt = optimizers.Adam(learning_rate = 0.0005)\n",
    "model.compile(loss = 'categorical_crossentropy',\n",
    "              optimizer = opt,\n",
    "              metrics = ['accuracy'])"
   ]
  },
  {
   "cell_type": "code",
   "execution_count": 20,
   "id": "d4866917-6ff6-435e-acb5-cd2300def7d0",
   "metadata": {},
   "outputs": [
    {
     "name": "stdout",
     "output_type": "stream",
     "text": [
      "Epoch 1/10\n",
      "1563/1563 [==============================] - 33s 21ms/step - loss: 1.5618 - accuracy: 0.4513\n",
      "Epoch 2/10\n",
      "1563/1563 [==============================] - 32s 20ms/step - loss: 1.1570 - accuracy: 0.5920\n",
      "Epoch 3/10\n",
      "1563/1563 [==============================] - 31s 20ms/step - loss: 1.0038 - accuracy: 0.6479\n",
      "Epoch 4/10\n",
      "1563/1563 [==============================] - 27s 17ms/step - loss: 0.9198 - accuracy: 0.6773\n",
      "Epoch 5/10\n",
      "1563/1563 [==============================] - 32s 20ms/step - loss: 0.8530 - accuracy: 0.7027\n",
      "Epoch 6/10\n",
      "1563/1563 [==============================] - 31s 20ms/step - loss: 0.8047 - accuracy: 0.7185\n",
      "Epoch 7/10\n",
      "1563/1563 [==============================] - 34s 22ms/step - loss: 0.7579 - accuracy: 0.7354\n",
      "Epoch 8/10\n",
      "1563/1563 [==============================] - 35s 22ms/step - loss: 0.7216 - accuracy: 0.7461\n",
      "Epoch 9/10\n",
      "1563/1563 [==============================] - 33s 21ms/step - loss: 0.6864 - accuracy: 0.7605\n",
      "Epoch 10/10\n",
      "1563/1563 [==============================] - 33s 21ms/step - loss: 0.6534 - accuracy: 0.7708\n"
     ]
    },
    {
     "data": {
      "text/plain": [
       "<keras.callbacks.History at 0x1dd84611b20>"
      ]
     },
     "execution_count": 20,
     "metadata": {},
     "output_type": "execute_result"
    }
   ],
   "source": [
    "model.fit(X_train,\n",
    "          y_train,\n",
    "          batch_size = 32,\n",
    "          epochs = 10,\n",
    "          shuffle = True)"
   ]
  },
  {
   "cell_type": "code",
   "execution_count": 21,
   "id": "a443c405-cb60-4206-9a90-4c290ed47510",
   "metadata": {},
   "outputs": [
    {
     "name": "stdout",
     "output_type": "stream",
     "text": [
      "10/10 [==============================] - 1s 98ms/step - loss: 0.8147 - accuracy: 0.7191\n"
     ]
    },
    {
     "data": {
      "text/plain": [
       "[0.8146544694900513, 0.7190999984741211]"
      ]
     },
     "execution_count": 21,
     "metadata": {},
     "output_type": "execute_result"
    }
   ],
   "source": [
    "model.evaluate(X_test, y_test, batch_size = 1000)"
   ]
  }
 ],
 "metadata": {
  "kernelspec": {
   "display_name": "Python 3 (ipykernel)",
   "language": "python",
   "name": "python3"
  },
  "language_info": {
   "codemirror_mode": {
    "name": "ipython",
    "version": 3
   },
   "file_extension": ".py",
   "mimetype": "text/x-python",
   "name": "python",
   "nbconvert_exporter": "python",
   "pygments_lexer": "ipython3",
   "version": "3.9.18"
  }
 },
 "nbformat": 4,
 "nbformat_minor": 5
}
